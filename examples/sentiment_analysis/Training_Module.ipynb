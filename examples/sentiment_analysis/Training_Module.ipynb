{
 "cells": [
  {
   "cell_type": "markdown",
   "metadata": {},
   "source": [
    "# SENTIMENT ANALYSIS USING ROMANIAN BERT"
   ]
  },
  {
   "cell_type": "markdown",
   "metadata": {},
   "source": [
    "First we need to install dependencies."
   ]
  },
  {
   "cell_type": "code",
   "execution_count": null,
   "metadata": {},
   "outputs": [],
   "source": [
    "!pip3 install transformers tokenizers pytorch-lightning torch"
   ]
  },
  {
   "cell_type": "markdown",
   "metadata": {},
   "source": [
    "Import all dependencies"
   ]
  },
  {
   "cell_type": "code",
   "execution_count": 27,
   "metadata": {},
   "outputs": [],
   "source": [
    "import torch\n",
    "from torch import nn\n",
    "import torch.nn.functional as F\n",
    "from transformers import *\n",
    "import logging\n",
    "import os\n",
    "from functools import lru_cache\n",
    "from tokenizers import ByteLevelBPETokenizer\n",
    "from tokenizers.processors import BertProcessing\n",
    "import pytorch_lightning as pl\n",
    "from torch.utils.data import DataLoader, Dataset\n",
    "import pandas as pd\n",
    "from sklearn.metrics import classification_report\n",
    "import matplotlib.pyplot as plt\n",
    "from scipy.spatial.distance import cosine\n",
    "from imbalanced_sampler import ImbalancedDatasetSampler\n",
    "from argparse import Namespace\n",
    "from model import SentimentModel\n",
    "from data import SentimentDataset\n",
    "from imbalanced_sampler import ImbalancedDatasetSampler\n",
    "import matplotlib\n",
    "matplotlib.style.use('ggplot')"
   ]
  },
  {
   "cell_type": "markdown",
   "metadata": {},
   "source": [
    "Load dataset."
   ]
  },
  {
   "cell_type": "code",
   "execution_count": 60,
   "metadata": {},
   "outputs": [],
   "source": [
    "# Load Data\n",
    "df = pd.read_csv(\"./ro/train.csv\")\n",
    "df.dropna(inplace=True)\n",
    "df.label = df.label.astype('category')\n",
    "train_df = df.iloc[:15000]\n",
    "validation_df = df.iloc[15000:]\n",
    "test_df = pd.read_csv(\"./ro/test.csv\")\n",
    "test_df.dropna(inplace=True)\n",
    "\n",
    "label2int = {\n",
    "  \"meta_minus_m\": 0,\n",
    "  \"meta_plus_m\": 1,\n",
    "  \"meta_zero\": 2,\n",
    "  \"meta_amb\": 3\n",
    "}"
   ]
  },
  {
   "cell_type": "code",
   "execution_count": 55,
   "metadata": {},
   "outputs": [],
   "source": [
    "train_df = train_df.iloc[:100]\n",
    "validation_df = validation_df.iloc[:10]\n",
    "test_df = test_df.iloc[:10]"
   ]
  },
  {
   "cell_type": "markdown",
   "metadata": {},
   "source": [
    "Load pre-trained model  and tokenizer. Declare hparams"
   ]
  },
  {
   "cell_type": "code",
   "execution_count": 56,
   "metadata": {},
   "outputs": [
    {
     "name": "stderr",
     "output_type": "stream",
     "text": [
      "INFO:transformers.tokenization_utils:Model name 'dumitrescustefan/bert-base-romanian-cased-v1' not found in model shortcut name list (bert-base-uncased, bert-large-uncased, bert-base-cased, bert-large-cased, bert-base-multilingual-uncased, bert-base-multilingual-cased, bert-base-chinese, bert-base-german-cased, bert-large-uncased-whole-word-masking, bert-large-cased-whole-word-masking, bert-large-uncased-whole-word-masking-finetuned-squad, bert-large-cased-whole-word-masking-finetuned-squad, bert-base-cased-finetuned-mrpc, bert-base-german-dbmdz-cased, bert-base-german-dbmdz-uncased, bert-base-finnish-cased-v1, bert-base-finnish-uncased-v1). Assuming 'dumitrescustefan/bert-base-romanian-cased-v1' is a path or url to a directory containing tokenizer files.\n",
      "INFO:transformers.tokenization_utils:Didn't find file dumitrescustefan/bert-base-romanian-cased-v1/added_tokens.json. We won't load it.\n",
      "INFO:transformers.tokenization_utils:Didn't find file dumitrescustefan/bert-base-romanian-cased-v1/special_tokens_map.json. We won't load it.\n",
      "INFO:transformers.tokenization_utils:Didn't find file dumitrescustefan/bert-base-romanian-cased-v1/tokenizer_config.json. We won't load it.\n",
      "INFO:transformers.tokenization_utils:loading file https://s3.amazonaws.com/models.huggingface.co/bert/dumitrescustefan/bert-base-romanian-cased-v1/vocab.txt from cache at /home/mihai/.cache/torch/transformers/8f484b8d8325d2eaf7ce7a1b76c3039ab5dac7f66e990510fec72516f38606eb.549839faf324dd95ad2a010a98d79e9ba649e1902543250d7f303dbe5911c2bb\n",
      "INFO:transformers.tokenization_utils:loading file None\n",
      "INFO:transformers.tokenization_utils:loading file None\n",
      "INFO:transformers.tokenization_utils:loading file None\n",
      "INFO:transformers.configuration_utils:loading configuration file https://s3.amazonaws.com/models.huggingface.co/bert/dumitrescustefan/bert-base-romanian-cased-v1/config.json from cache at /home/mihai/.cache/torch/transformers/16f881d81e2cc1a24df63c9281832f2a67e993ce53cc89ffb92c86e198fa0fce.0238ce9e237411721966c916e09e62c904acebf01de9678d4263c97d3d95ec18\n",
      "INFO:transformers.configuration_utils:Model config {\n",
      "  \"attention_probs_dropout_prob\": 0.1,\n",
      "  \"finetuning_task\": null,\n",
      "  \"hidden_act\": \"gelu\",\n",
      "  \"hidden_dropout_prob\": 0.1,\n",
      "  \"hidden_size\": 768,\n",
      "  \"id2label\": {\n",
      "    \"0\": \"LABEL_0\",\n",
      "    \"1\": \"LABEL_1\"\n",
      "  },\n",
      "  \"initializer_range\": 0.02,\n",
      "  \"intermediate_size\": 3072,\n",
      "  \"is_decoder\": false,\n",
      "  \"label2id\": {\n",
      "    \"LABEL_0\": 0,\n",
      "    \"LABEL_1\": 1\n",
      "  },\n",
      "  \"layer_norm_eps\": 1e-12,\n",
      "  \"max_position_embeddings\": 512,\n",
      "  \"model_type\": \"bert\",\n",
      "  \"num_attention_heads\": 12,\n",
      "  \"num_hidden_layers\": 12,\n",
      "  \"num_labels\": 2,\n",
      "  \"output_attentions\": false,\n",
      "  \"output_hidden_states\": true,\n",
      "  \"output_past\": true,\n",
      "  \"pad_token_id\": 0,\n",
      "  \"pruned_heads\": {},\n",
      "  \"torchscript\": false,\n",
      "  \"type_vocab_size\": 2,\n",
      "  \"use_bfloat16\": false,\n",
      "  \"vocab_size\": 50000\n",
      "}\n",
      "\n",
      "INFO:transformers.modeling_utils:loading weights file https://s3.amazonaws.com/models.huggingface.co/bert/dumitrescustefan/bert-base-romanian-cased-v1/pytorch_model.bin from cache at /home/mihai/.cache/torch/transformers/43f08c09359d4992b29f1910631e4813ab686ac589a0ef4ebb74e95217aeb8af.aeb64baccc31c441972d0f4a7d5306c3ccd091a9db58162dae7442f024699db7\n"
     ]
    }
   ],
   "source": [
    "name = \"dumitrescustefan/bert-base-romanian-cased-v1\"\n",
    "tokenizer = AutoTokenizer.from_pretrained(name)\n",
    "config = BertConfig.from_pretrained(name, output_hidden_states=True)\n",
    "model = AutoModel.from_pretrained(name, config=config)\n",
    "\n",
    "hparams = Namespace(\n",
    "    train_df=train_df,\n",
    "    test_df=test_df,\n",
    "    val_df=validation_df,\n",
    "    batch_size=16,\n",
    "    warmup_steps=100,\n",
    "    epochs=1,\n",
    "    lr=5e-4,\n",
    "    accumulate_grad_batches=1,\n",
    ")\n",
    "module = TrainingModule(hparams)"
   ]
  },
  {
   "cell_type": "markdown",
   "metadata": {},
   "source": [
    "Define pytorch-lightning module"
   ]
  },
  {
   "cell_type": "code",
   "execution_count": 57,
   "metadata": {},
   "outputs": [],
   "source": [
    "class TrainingModule(pl.LightningModule):\n",
    "    def __init__(self, hparams):\n",
    "        super().__init__()\n",
    "        self.model = SentimentModel(model, tokenizer, output_size=2)\n",
    "        self.loss = nn.CrossEntropyLoss()\n",
    "        self.hparams = hparams\n",
    "        \n",
    "    def step(self, batch, step_name=\"train\"):\n",
    "        X, y = batch\n",
    "        loss = self.loss(self.forward(X), y)\n",
    "        loss_key = f\"{step_name}_loss\"\n",
    "        tensorboard_logs = {loss_key: loss}\n",
    "        print({ (\"loss\" if step_name == \"train\" else loss_key): loss, 'log': tensorboard_logs,\n",
    "               \"progress_bar\": {loss_key: loss}})\n",
    "        return { (\"loss\" if step_name == \"train\" else loss_key): loss, 'log': tensorboard_logs,\n",
    "               \"progress_bar\": {loss_key: loss}}\n",
    "    \n",
    "    def forward(self, X):\n",
    "        return self.model(X)\n",
    "    \n",
    "    def training_step(self, batch, batch_idx):\n",
    "        return self.step(batch, \"train\")\n",
    "    \n",
    "    def validation_step(self, batch, batch_idx):\n",
    "        return self.step(batch, \"valid\")\n",
    "    \n",
    "    def validation_end(self, outputs):\n",
    "        loss = torch.stack([x[\"valid_loss\"] for x in outputs]).mean()\n",
    "        return {\"valid_loss\": loss}\n",
    "        \n",
    "    def test_step(self, batch, batch_idx):\n",
    "        return self.step(batch, \"test\")\n",
    "    \n",
    "    def train_dataloader(self):\n",
    "        return self.create_data_loader(mode=\"train\", df=self.hparams.train_df)\n",
    "    \n",
    "    def val_dataloader(self):\n",
    "        return self.create_data_loader(mode=\"val\", df=self.hparams.val_df)\n",
    "\n",
    "    def test_dataloader(self):\n",
    "        return self.create_data_loader(mode=\"test\", df=self.hparams.test_df)\n",
    "    \n",
    "    def create_data_loader(self, mode, df, shuffle=False):\n",
    "        if mode == \"train\":\n",
    "            return DataLoader(\n",
    "                    SentimentDataset(df),\n",
    "                    batch_size=self.hparams.batch_size,\n",
    "                    shuffle=False,\n",
    "                    #sampler=ImbalancedDatasetSampler(train_df)\n",
    "                    )\n",
    "        else:\n",
    "            return DataLoader(\n",
    "                    SentimentDataset(df),\n",
    "                    batch_size=self.hparams.batch_size,\n",
    "                    shuffle=False\n",
    "                    )\n",
    "    \n",
    "    @lru_cache()\n",
    "    def total_steps(self):\n",
    "        return len(self.train_dataloader()) // self.hparams.accumulate_grad_batches * self.hparams.epochs\n",
    "\n",
    "    def configure_optimizers(self):\n",
    "        ## use AdamW optimizer -- faster approach to training NNs\n",
    "        ## read: https://www.fast.ai/2018/07/02/adam-weight-decay/\n",
    "        optimizer = AdamW(self.model.parameters(), lr=self.hparams.lr)\n",
    "        lr_scheduler = get_linear_schedule_with_warmup(\n",
    "                    optimizer,\n",
    "                    num_warmup_steps=self.hparams.warmup_steps,\n",
    "                    num_training_steps=self.total_steps(),\n",
    "        )\n",
    "        return [optimizer], [{\"scheduler\": lr_scheduler, \"interval\": \"step\"}]"
   ]
  },
  {
   "cell_type": "markdown",
   "metadata": {},
   "source": [
    "Start training. Can be very easily switch from CPU to GPU."
   ]
  },
  {
   "cell_type": "code",
   "execution_count": 58,
   "metadata": {},
   "outputs": [
    {
     "name": "stderr",
     "output_type": "stream",
     "text": [
      "INFO:lightning:GPU available: False, used: False\n",
      "INFO:lightning:\n",
      "    | Name                                                    | Type              | Params\n",
      "------------------------------------------------------------------------------------------\n",
      "0   | model                                                   | SentimentModel    | 125 M \n",
      "1   | model.model                                             | BertModel         | 124 M \n",
      "2   | model.model.embeddings                                  | BertEmbeddings    | 38 M  \n",
      "3   | model.model.embeddings.word_embeddings                  | Embedding         | 38 M  \n",
      "4   | model.model.embeddings.position_embeddings              | Embedding         | 393 K \n",
      "5   | model.model.embeddings.token_type_embeddings            | Embedding         | 1 K   \n",
      "6   | model.model.embeddings.LayerNorm                        | LayerNorm         | 1 K   \n",
      "7   | model.model.embeddings.dropout                          | Dropout           | 0     \n",
      "8   | model.model.encoder                                     | BertEncoder       | 85 M  \n",
      "9   | model.model.encoder.layer                               | ModuleList        | 85 M  \n",
      "10  | model.model.encoder.layer.0                             | BertLayer         | 7 M   \n",
      "11  | model.model.encoder.layer.0.attention                   | BertAttention     | 2 M   \n",
      "12  | model.model.encoder.layer.0.attention.self              | BertSelfAttention | 1 M   \n",
      "13  | model.model.encoder.layer.0.attention.self.query        | Linear            | 590 K \n",
      "14  | model.model.encoder.layer.0.attention.self.key          | Linear            | 590 K \n",
      "15  | model.model.encoder.layer.0.attention.self.value        | Linear            | 590 K \n",
      "16  | model.model.encoder.layer.0.attention.self.dropout      | Dropout           | 0     \n",
      "17  | model.model.encoder.layer.0.attention.output            | BertSelfOutput    | 592 K \n",
      "18  | model.model.encoder.layer.0.attention.output.dense      | Linear            | 590 K \n",
      "19  | model.model.encoder.layer.0.attention.output.LayerNorm  | LayerNorm         | 1 K   \n",
      "20  | model.model.encoder.layer.0.attention.output.dropout    | Dropout           | 0     \n",
      "21  | model.model.encoder.layer.0.intermediate                | BertIntermediate  | 2 M   \n",
      "22  | model.model.encoder.layer.0.intermediate.dense          | Linear            | 2 M   \n",
      "23  | model.model.encoder.layer.0.output                      | BertOutput        | 2 M   \n",
      "24  | model.model.encoder.layer.0.output.dense                | Linear            | 2 M   \n",
      "25  | model.model.encoder.layer.0.output.LayerNorm            | LayerNorm         | 1 K   \n",
      "26  | model.model.encoder.layer.0.output.dropout              | Dropout           | 0     \n",
      "27  | model.model.encoder.layer.1                             | BertLayer         | 7 M   \n",
      "28  | model.model.encoder.layer.1.attention                   | BertAttention     | 2 M   \n",
      "29  | model.model.encoder.layer.1.attention.self              | BertSelfAttention | 1 M   \n",
      "30  | model.model.encoder.layer.1.attention.self.query        | Linear            | 590 K \n",
      "31  | model.model.encoder.layer.1.attention.self.key          | Linear            | 590 K \n",
      "32  | model.model.encoder.layer.1.attention.self.value        | Linear            | 590 K \n",
      "33  | model.model.encoder.layer.1.attention.self.dropout      | Dropout           | 0     \n",
      "34  | model.model.encoder.layer.1.attention.output            | BertSelfOutput    | 592 K \n",
      "35  | model.model.encoder.layer.1.attention.output.dense      | Linear            | 590 K \n",
      "36  | model.model.encoder.layer.1.attention.output.LayerNorm  | LayerNorm         | 1 K   \n",
      "37  | model.model.encoder.layer.1.attention.output.dropout    | Dropout           | 0     \n",
      "38  | model.model.encoder.layer.1.intermediate                | BertIntermediate  | 2 M   \n",
      "39  | model.model.encoder.layer.1.intermediate.dense          | Linear            | 2 M   \n",
      "40  | model.model.encoder.layer.1.output                      | BertOutput        | 2 M   \n",
      "41  | model.model.encoder.layer.1.output.dense                | Linear            | 2 M   \n",
      "42  | model.model.encoder.layer.1.output.LayerNorm            | LayerNorm         | 1 K   \n",
      "43  | model.model.encoder.layer.1.output.dropout              | Dropout           | 0     \n",
      "44  | model.model.encoder.layer.2                             | BertLayer         | 7 M   \n",
      "45  | model.model.encoder.layer.2.attention                   | BertAttention     | 2 M   \n",
      "46  | model.model.encoder.layer.2.attention.self              | BertSelfAttention | 1 M   \n",
      "47  | model.model.encoder.layer.2.attention.self.query        | Linear            | 590 K \n",
      "48  | model.model.encoder.layer.2.attention.self.key          | Linear            | 590 K \n",
      "49  | model.model.encoder.layer.2.attention.self.value        | Linear            | 590 K \n",
      "50  | model.model.encoder.layer.2.attention.self.dropout      | Dropout           | 0     \n",
      "51  | model.model.encoder.layer.2.attention.output            | BertSelfOutput    | 592 K \n",
      "52  | model.model.encoder.layer.2.attention.output.dense      | Linear            | 590 K \n",
      "53  | model.model.encoder.layer.2.attention.output.LayerNorm  | LayerNorm         | 1 K   \n",
      "54  | model.model.encoder.layer.2.attention.output.dropout    | Dropout           | 0     \n",
      "55  | model.model.encoder.layer.2.intermediate                | BertIntermediate  | 2 M   \n",
      "56  | model.model.encoder.layer.2.intermediate.dense          | Linear            | 2 M   \n",
      "57  | model.model.encoder.layer.2.output                      | BertOutput        | 2 M   \n",
      "58  | model.model.encoder.layer.2.output.dense                | Linear            | 2 M   \n",
      "59  | model.model.encoder.layer.2.output.LayerNorm            | LayerNorm         | 1 K   \n",
      "60  | model.model.encoder.layer.2.output.dropout              | Dropout           | 0     \n",
      "61  | model.model.encoder.layer.3                             | BertLayer         | 7 M   \n",
      "62  | model.model.encoder.layer.3.attention                   | BertAttention     | 2 M   \n",
      "63  | model.model.encoder.layer.3.attention.self              | BertSelfAttention | 1 M   \n",
      "64  | model.model.encoder.layer.3.attention.self.query        | Linear            | 590 K \n",
      "65  | model.model.encoder.layer.3.attention.self.key          | Linear            | 590 K \n",
      "66  | model.model.encoder.layer.3.attention.self.value        | Linear            | 590 K \n",
      "67  | model.model.encoder.layer.3.attention.self.dropout      | Dropout           | 0     \n",
      "68  | model.model.encoder.layer.3.attention.output            | BertSelfOutput    | 592 K \n",
      "69  | model.model.encoder.layer.3.attention.output.dense      | Linear            | 590 K \n",
      "70  | model.model.encoder.layer.3.attention.output.LayerNorm  | LayerNorm         | 1 K   \n",
      "71  | model.model.encoder.layer.3.attention.output.dropout    | Dropout           | 0     \n",
      "72  | model.model.encoder.layer.3.intermediate                | BertIntermediate  | 2 M   \n",
      "73  | model.model.encoder.layer.3.intermediate.dense          | Linear            | 2 M   \n",
      "74  | model.model.encoder.layer.3.output                      | BertOutput        | 2 M   \n",
      "75  | model.model.encoder.layer.3.output.dense                | Linear            | 2 M   \n",
      "76  | model.model.encoder.layer.3.output.LayerNorm            | LayerNorm         | 1 K   \n",
      "77  | model.model.encoder.layer.3.output.dropout              | Dropout           | 0     \n",
      "78  | model.model.encoder.layer.4                             | BertLayer         | 7 M   \n",
      "79  | model.model.encoder.layer.4.attention                   | BertAttention     | 2 M   \n",
      "80  | model.model.encoder.layer.4.attention.self              | BertSelfAttention | 1 M   \n",
      "81  | model.model.encoder.layer.4.attention.self.query        | Linear            | 590 K \n",
      "82  | model.model.encoder.layer.4.attention.self.key          | Linear            | 590 K \n",
      "83  | model.model.encoder.layer.4.attention.self.value        | Linear            | 590 K \n",
      "84  | model.model.encoder.layer.4.attention.self.dropout      | Dropout           | 0     \n",
      "85  | model.model.encoder.layer.4.attention.output            | BertSelfOutput    | 592 K \n",
      "86  | model.model.encoder.layer.4.attention.output.dense      | Linear            | 590 K \n",
      "87  | model.model.encoder.layer.4.attention.output.LayerNorm  | LayerNorm         | 1 K   \n",
      "88  | model.model.encoder.layer.4.attention.output.dropout    | Dropout           | 0     \n",
      "89  | model.model.encoder.layer.4.intermediate                | BertIntermediate  | 2 M   \n",
      "90  | model.model.encoder.layer.4.intermediate.dense          | Linear            | 2 M   \n",
      "91  | model.model.encoder.layer.4.output                      | BertOutput        | 2 M   \n",
      "92  | model.model.encoder.layer.4.output.dense                | Linear            | 2 M   \n",
      "93  | model.model.encoder.layer.4.output.LayerNorm            | LayerNorm         | 1 K   \n",
      "94  | model.model.encoder.layer.4.output.dropout              | Dropout           | 0     \n",
      "95  | model.model.encoder.layer.5                             | BertLayer         | 7 M   \n",
      "96  | model.model.encoder.layer.5.attention                   | BertAttention     | 2 M   \n",
      "97  | model.model.encoder.layer.5.attention.self              | BertSelfAttention | 1 M   \n",
      "98  | model.model.encoder.layer.5.attention.self.query        | Linear            | 590 K \n",
      "99  | model.model.encoder.layer.5.attention.self.key          | Linear            | 590 K \n",
      "100 | model.model.encoder.layer.5.attention.self.value        | Linear            | 590 K \n",
      "101 | model.model.encoder.layer.5.attention.self.dropout      | Dropout           | 0     \n",
      "102 | model.model.encoder.layer.5.attention.output            | BertSelfOutput    | 592 K \n",
      "103 | model.model.encoder.layer.5.attention.output.dense      | Linear            | 590 K \n",
      "104 | model.model.encoder.layer.5.attention.output.LayerNorm  | LayerNorm         | 1 K   \n",
      "105 | model.model.encoder.layer.5.attention.output.dropout    | Dropout           | 0     \n",
      "106 | model.model.encoder.layer.5.intermediate                | BertIntermediate  | 2 M   \n",
      "107 | model.model.encoder.layer.5.intermediate.dense          | Linear            | 2 M   \n",
      "108 | model.model.encoder.layer.5.output                      | BertOutput        | 2 M   \n",
      "109 | model.model.encoder.layer.5.output.dense                | Linear            | 2 M   \n",
      "110 | model.model.encoder.layer.5.output.LayerNorm            | LayerNorm         | 1 K   \n",
      "111 | model.model.encoder.layer.5.output.dropout              | Dropout           | 0     \n",
      "112 | model.model.encoder.layer.6                             | BertLayer         | 7 M   \n",
      "113 | model.model.encoder.layer.6.attention                   | BertAttention     | 2 M   \n",
      "114 | model.model.encoder.layer.6.attention.self              | BertSelfAttention | 1 M   \n",
      "115 | model.model.encoder.layer.6.attention.self.query        | Linear            | 590 K \n",
      "116 | model.model.encoder.layer.6.attention.self.key          | Linear            | 590 K \n",
      "117 | model.model.encoder.layer.6.attention.self.value        | Linear            | 590 K \n",
      "118 | model.model.encoder.layer.6.attention.self.dropout      | Dropout           | 0     \n",
      "119 | model.model.encoder.layer.6.attention.output            | BertSelfOutput    | 592 K \n",
      "120 | model.model.encoder.layer.6.attention.output.dense      | Linear            | 590 K \n",
      "121 | model.model.encoder.layer.6.attention.output.LayerNorm  | LayerNorm         | 1 K   \n",
      "122 | model.model.encoder.layer.6.attention.output.dropout    | Dropout           | 0     \n",
      "123 | model.model.encoder.layer.6.intermediate                | BertIntermediate  | 2 M   \n",
      "124 | model.model.encoder.layer.6.intermediate.dense          | Linear            | 2 M   \n",
      "125 | model.model.encoder.layer.6.output                      | BertOutput        | 2 M   \n",
      "126 | model.model.encoder.layer.6.output.dense                | Linear            | 2 M   \n",
      "127 | model.model.encoder.layer.6.output.LayerNorm            | LayerNorm         | 1 K   \n",
      "128 | model.model.encoder.layer.6.output.dropout              | Dropout           | 0     \n",
      "129 | model.model.encoder.layer.7                             | BertLayer         | 7 M   \n",
      "130 | model.model.encoder.layer.7.attention                   | BertAttention     | 2 M   \n",
      "131 | model.model.encoder.layer.7.attention.self              | BertSelfAttention | 1 M   \n",
      "132 | model.model.encoder.layer.7.attention.self.query        | Linear            | 590 K \n",
      "133 | model.model.encoder.layer.7.attention.self.key          | Linear            | 590 K \n",
      "134 | model.model.encoder.layer.7.attention.self.value        | Linear            | 590 K \n",
      "135 | model.model.encoder.layer.7.attention.self.dropout      | Dropout           | 0     \n",
      "136 | model.model.encoder.layer.7.attention.output            | BertSelfOutput    | 592 K \n",
      "137 | model.model.encoder.layer.7.attention.output.dense      | Linear            | 590 K \n",
      "138 | model.model.encoder.layer.7.attention.output.LayerNorm  | LayerNorm         | 1 K   \n",
      "139 | model.model.encoder.layer.7.attention.output.dropout    | Dropout           | 0     \n",
      "140 | model.model.encoder.layer.7.intermediate                | BertIntermediate  | 2 M   \n",
      "141 | model.model.encoder.layer.7.intermediate.dense          | Linear            | 2 M   \n",
      "142 | model.model.encoder.layer.7.output                      | BertOutput        | 2 M   \n",
      "143 | model.model.encoder.layer.7.output.dense                | Linear            | 2 M   \n",
      "144 | model.model.encoder.layer.7.output.LayerNorm            | LayerNorm         | 1 K   \n",
      "145 | model.model.encoder.layer.7.output.dropout              | Dropout           | 0     \n",
      "146 | model.model.encoder.layer.8                             | BertLayer         | 7 M   \n",
      "147 | model.model.encoder.layer.8.attention                   | BertAttention     | 2 M   \n",
      "148 | model.model.encoder.layer.8.attention.self              | BertSelfAttention | 1 M   \n",
      "149 | model.model.encoder.layer.8.attention.self.query        | Linear            | 590 K \n",
      "150 | model.model.encoder.layer.8.attention.self.key          | Linear            | 590 K \n",
      "151 | model.model.encoder.layer.8.attention.self.value        | Linear            | 590 K \n",
      "152 | model.model.encoder.layer.8.attention.self.dropout      | Dropout           | 0     \n",
      "153 | model.model.encoder.layer.8.attention.output            | BertSelfOutput    | 592 K \n",
      "154 | model.model.encoder.layer.8.attention.output.dense      | Linear            | 590 K \n",
      "155 | model.model.encoder.layer.8.attention.output.LayerNorm  | LayerNorm         | 1 K   \n",
      "156 | model.model.encoder.layer.8.attention.output.dropout    | Dropout           | 0     \n",
      "157 | model.model.encoder.layer.8.intermediate                | BertIntermediate  | 2 M   \n",
      "158 | model.model.encoder.layer.8.intermediate.dense          | Linear            | 2 M   \n",
      "159 | model.model.encoder.layer.8.output                      | BertOutput        | 2 M   \n",
      "160 | model.model.encoder.layer.8.output.dense                | Linear            | 2 M   \n",
      "161 | model.model.encoder.layer.8.output.LayerNorm            | LayerNorm         | 1 K   \n",
      "162 | model.model.encoder.layer.8.output.dropout              | Dropout           | 0     \n",
      "163 | model.model.encoder.layer.9                             | BertLayer         | 7 M   \n",
      "164 | model.model.encoder.layer.9.attention                   | BertAttention     | 2 M   \n",
      "165 | model.model.encoder.layer.9.attention.self              | BertSelfAttention | 1 M   \n",
      "166 | model.model.encoder.layer.9.attention.self.query        | Linear            | 590 K \n",
      "167 | model.model.encoder.layer.9.attention.self.key          | Linear            | 590 K \n",
      "168 | model.model.encoder.layer.9.attention.self.value        | Linear            | 590 K \n",
      "169 | model.model.encoder.layer.9.attention.self.dropout      | Dropout           | 0     \n",
      "170 | model.model.encoder.layer.9.attention.output            | BertSelfOutput    | 592 K \n",
      "171 | model.model.encoder.layer.9.attention.output.dense      | Linear            | 590 K \n",
      "172 | model.model.encoder.layer.9.attention.output.LayerNorm  | LayerNorm         | 1 K   \n",
      "173 | model.model.encoder.layer.9.attention.output.dropout    | Dropout           | 0     \n",
      "174 | model.model.encoder.layer.9.intermediate                | BertIntermediate  | 2 M   \n",
      "175 | model.model.encoder.layer.9.intermediate.dense          | Linear            | 2 M   \n",
      "176 | model.model.encoder.layer.9.output                      | BertOutput        | 2 M   \n",
      "177 | model.model.encoder.layer.9.output.dense                | Linear            | 2 M   \n",
      "178 | model.model.encoder.layer.9.output.LayerNorm            | LayerNorm         | 1 K   \n",
      "179 | model.model.encoder.layer.9.output.dropout              | Dropout           | 0     \n",
      "180 | model.model.encoder.layer.10                            | BertLayer         | 7 M   \n",
      "181 | model.model.encoder.layer.10.attention                  | BertAttention     | 2 M   \n",
      "182 | model.model.encoder.layer.10.attention.self             | BertSelfAttention | 1 M   \n",
      "183 | model.model.encoder.layer.10.attention.self.query       | Linear            | 590 K \n",
      "184 | model.model.encoder.layer.10.attention.self.key         | Linear            | 590 K \n",
      "185 | model.model.encoder.layer.10.attention.self.value       | Linear            | 590 K \n",
      "186 | model.model.encoder.layer.10.attention.self.dropout     | Dropout           | 0     \n",
      "187 | model.model.encoder.layer.10.attention.output           | BertSelfOutput    | 592 K \n",
      "188 | model.model.encoder.layer.10.attention.output.dense     | Linear            | 590 K \n",
      "189 | model.model.encoder.layer.10.attention.output.LayerNorm | LayerNorm         | 1 K   \n",
      "190 | model.model.encoder.layer.10.attention.output.dropout   | Dropout           | 0     \n",
      "191 | model.model.encoder.layer.10.intermediate               | BertIntermediate  | 2 M   \n",
      "192 | model.model.encoder.layer.10.intermediate.dense         | Linear            | 2 M   \n",
      "193 | model.model.encoder.layer.10.output                     | BertOutput        | 2 M   \n",
      "194 | model.model.encoder.layer.10.output.dense               | Linear            | 2 M   \n",
      "195 | model.model.encoder.layer.10.output.LayerNorm           | LayerNorm         | 1 K   \n",
      "196 | model.model.encoder.layer.10.output.dropout             | Dropout           | 0     \n",
      "197 | model.model.encoder.layer.11                            | BertLayer         | 7 M   \n",
      "198 | model.model.encoder.layer.11.attention                  | BertAttention     | 2 M   \n",
      "199 | model.model.encoder.layer.11.attention.self             | BertSelfAttention | 1 M   \n",
      "200 | model.model.encoder.layer.11.attention.self.query       | Linear            | 590 K \n",
      "201 | model.model.encoder.layer.11.attention.self.key         | Linear            | 590 K \n",
      "202 | model.model.encoder.layer.11.attention.self.value       | Linear            | 590 K \n",
      "203 | model.model.encoder.layer.11.attention.self.dropout     | Dropout           | 0     \n",
      "204 | model.model.encoder.layer.11.attention.output           | BertSelfOutput    | 592 K \n",
      "205 | model.model.encoder.layer.11.attention.output.dense     | Linear            | 590 K \n",
      "206 | model.model.encoder.layer.11.attention.output.LayerNorm | LayerNorm         | 1 K   \n",
      "207 | model.model.encoder.layer.11.attention.output.dropout   | Dropout           | 0     \n",
      "208 | model.model.encoder.layer.11.intermediate               | BertIntermediate  | 2 M   \n",
      "209 | model.model.encoder.layer.11.intermediate.dense         | Linear            | 2 M   \n",
      "210 | model.model.encoder.layer.11.output                     | BertOutput        | 2 M   \n",
      "211 | model.model.encoder.layer.11.output.dense               | Linear            | 2 M   \n",
      "212 | model.model.encoder.layer.11.output.LayerNorm           | LayerNorm         | 1 K   \n",
      "213 | model.model.encoder.layer.11.output.dropout             | Dropout           | 0     \n",
      "214 | model.model.pooler                                      | BertPooler        | 590 K \n",
      "215 | model.model.pooler.dense                                | Linear            | 590 K \n",
      "216 | model.model.pooler.activation                           | Tanh              | 0     \n",
      "217 | model.dropout                                           | Dropout           | 0     \n",
      "218 | model.fc1                                               | Linear            | 590 K \n",
      "219 | model.fc2                                               | Linear            | 1 K   \n",
      "220 | model.activation                                        | Mish              | 0     \n",
      "221 | loss                                                    | CrossEntropyLoss  | 0     \n"
     ]
    },
    {
     "data": {
      "application/vnd.jupyter.widget-view+json": {
       "model_id": "3bd55445d45e48c3b9a020be241edb96",
       "version_major": 2,
       "version_minor": 0
      },
      "text/plain": [
       "HBox(children=(IntProgress(value=1, bar_style='info', description='Validation sanity check', layout=Layout(fle…"
      ]
     },
     "metadata": {},
     "output_type": "display_data"
    },
    {
     "name": "stdout",
     "output_type": "stream",
     "text": [
      "{'valid_loss': tensor(0.8204), 'log': {'valid_loss': tensor(0.8204)}, 'progress_bar': {'valid_loss': tensor(0.8204)}}\n"
     ]
    },
    {
     "name": "stderr",
     "output_type": "stream",
     "text": [
      "/usr/local/lib/python3.6/dist-packages/pytorch_lightning/utilities/distributed.py:23: UserWarning: The dataloader, train dataloader, does not have many workers which may be a bottleneck. Consider increasing the value of the `num_workers` argument` in the `DataLoader` init to improve performance.\n",
      "  warnings.warn(*args, **kwargs)\n"
     ]
    },
    {
     "data": {
      "application/vnd.jupyter.widget-view+json": {
       "model_id": "44da9c3909f745a3a3f1e09cf3da16d6",
       "version_major": 2,
       "version_minor": 0
      },
      "text/plain": [
       "HBox(children=(IntProgress(value=1, bar_style='info', description='Training', layout=Layout(flex='2'), max=1, …"
      ]
     },
     "metadata": {},
     "output_type": "display_data"
    },
    {
     "name": "stdout",
     "output_type": "stream",
     "text": [
      "{'loss': tensor(0.6227, grad_fn=<NllLossBackward>), 'log': {'train_loss': tensor(0.6227, grad_fn=<NllLossBackward>)}, 'progress_bar': {'train_loss': tensor(0.6227, grad_fn=<NllLossBackward>)}}\n",
      "{'loss': tensor(0.5953, grad_fn=<NllLossBackward>), 'log': {'train_loss': tensor(0.5953, grad_fn=<NllLossBackward>)}, 'progress_bar': {'train_loss': tensor(0.5953, grad_fn=<NllLossBackward>)}}\n",
      "{'loss': tensor(0.5897, grad_fn=<NllLossBackward>), 'log': {'train_loss': tensor(0.5897, grad_fn=<NllLossBackward>)}, 'progress_bar': {'train_loss': tensor(0.5897, grad_fn=<NllLossBackward>)}}\n",
      "{'loss': tensor(0.6056, grad_fn=<NllLossBackward>), 'log': {'train_loss': tensor(0.6056, grad_fn=<NllLossBackward>)}, 'progress_bar': {'train_loss': tensor(0.6056, grad_fn=<NllLossBackward>)}}\n",
      "{'loss': tensor(0.5477, grad_fn=<NllLossBackward>), 'log': {'train_loss': tensor(0.5477, grad_fn=<NllLossBackward>)}, 'progress_bar': {'train_loss': tensor(0.5477, grad_fn=<NllLossBackward>)}}\n",
      "{'loss': tensor(0.5359, grad_fn=<NllLossBackward>), 'log': {'train_loss': tensor(0.5359, grad_fn=<NllLossBackward>)}, 'progress_bar': {'train_loss': tensor(0.5359, grad_fn=<NllLossBackward>)}}\n",
      "{'loss': tensor(0.5269, grad_fn=<NllLossBackward>), 'log': {'train_loss': tensor(0.5269, grad_fn=<NllLossBackward>)}, 'progress_bar': {'train_loss': tensor(0.5269, grad_fn=<NllLossBackward>)}}\n"
     ]
    },
    {
     "data": {
      "application/vnd.jupyter.widget-view+json": {
       "model_id": "ac340cfd2aeb41b2947cd1625028ed4f",
       "version_major": 2,
       "version_minor": 0
      },
      "text/plain": [
       "HBox(children=(IntProgress(value=1, bar_style='info', description='Validating', layout=Layout(flex='2'), max=1…"
      ]
     },
     "metadata": {},
     "output_type": "display_data"
    },
    {
     "name": "stdout",
     "output_type": "stream",
     "text": [
      "{'valid_loss': tensor(1.0602), 'log': {'valid_loss': tensor(1.0602)}, 'progress_bar': {'valid_loss': tensor(1.0602)}}\n",
      "\n"
     ]
    },
    {
     "name": "stderr",
     "output_type": "stream",
     "text": [
      "/usr/local/lib/python3.6/dist-packages/pytorch_lightning/utilities/distributed.py:23: RuntimeWarning: Can save best model only with val_loss available, skipping.\n",
      "  warnings.warn(*args, **kwargs)\n"
     ]
    },
    {
     "data": {
      "text/plain": [
       "1"
      ]
     },
     "execution_count": 58,
     "metadata": {},
     "output_type": "execute_result"
    }
   ],
   "source": [
    "## train roughly for about 10-15 minutes with GPU enabled.\n",
    "trainer = pl.Trainer(gpus=0, max_epochs=hparams.epochs, progress_bar_refresh_rate=10,\n",
    "                     accumulate_grad_batches=hparams.accumulate_grad_batches)\n",
    "\n",
    "trainer.fit(module)"
   ]
  },
  {
   "cell_type": "code",
   "execution_count": 65,
   "metadata": {},
   "outputs": [
    {
     "name": "stdout",
     "output_type": "stream",
     "text": [
      "\n",
      "________________________________________________________________________________\n",
      "              precision    recall  f1-score   support\n",
      "\n",
      "     Results       1.00      1.00      1.00        10\n",
      "\n",
      "    accuracy                           1.00        10\n",
      "   macro avg       1.00      1.00      1.00        10\n",
      "weighted avg       1.00      1.00      1.00        10\n",
      "\n"
     ]
    }
   ],
   "source": [
    "with torch.no_grad():\n",
    "    progress = [\"/\", \"-\", \"\\\\\", \"|\", \"/\", \"-\", \"\\\\\", \"|\"]\n",
    "    module.eval()\n",
    "    true_y, pred_y = [], []\n",
    "    for i, batch_ in enumerate(module.test_dataloader()):\n",
    "        X, y = batch_\n",
    "        batch = X\n",
    "        y_pred = torch.argmax(module(batch), dim=1)\n",
    "        true_y.extend(y)\n",
    "        pred_y.extend(y_pred)\n",
    "print(\"\\n\" + \"_\" * 80)\n",
    "print(classification_report(true_y, pred_y, target_names=[\"Results\"], digits=2))"
   ]
  }
 ],
 "metadata": {
  "kernelspec": {
   "display_name": "Python 3",
   "language": "python",
   "name": "python3"
  },
  "language_info": {
   "codemirror_mode": {
    "name": "ipython",
    "version": 3
   },
   "file_extension": ".py",
   "mimetype": "text/x-python",
   "name": "python",
   "nbconvert_exporter": "python",
   "pygments_lexer": "ipython3",
   "version": "3.6.9"
  }
 },
 "nbformat": 4,
 "nbformat_minor": 2
}
